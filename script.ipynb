{
 "cells": [
  {
   "cell_type": "code",
   "execution_count": 2,
   "metadata": {},
   "outputs": [],
   "source": [
    "import pandas as pd\n",
    "import matplotlib.pyplot as plt\n",
    "import seaborn as sns\n",
    "from sklearn.preprocessing import LabelEncoder\n",
    "from sklearn.model_selection import train_test_split\n",
    "from sklearn.neighbors import KNeighborsClassifier\n",
    "from sklearn.metrics import classification_report, accuracy_score"
   ]
  },
  {
   "cell_type": "code",
   "execution_count": 4,
   "metadata": {},
   "outputs": [
    {
     "data": {
      "text/plain": [
       "(18016, 9)"
      ]
     },
     "execution_count": 4,
     "metadata": {},
     "output_type": "execute_result"
    }
   ],
   "source": [
    "# Importing data into pandas DataFrame\n",
    "dataset = pd.read_csv(r'updated_air_quality_data.csv')\n",
    "\n",
    "# DataFrame shape\n",
    "dataset.shape"
   ]
  },
  {
   "cell_type": "code",
   "execution_count": 6,
   "metadata": {},
   "outputs": [
    {
     "data": {
      "text/html": [
       "<div>\n",
       "<style scoped>\n",
       "    .dataframe tbody tr th:only-of-type {\n",
       "        vertical-align: middle;\n",
       "    }\n",
       "\n",
       "    .dataframe tbody tr th {\n",
       "        vertical-align: top;\n",
       "    }\n",
       "\n",
       "    .dataframe thead th {\n",
       "        text-align: right;\n",
       "    }\n",
       "</style>\n",
       "<table border=\"1\" class=\"dataframe\">\n",
       "  <thead>\n",
       "    <tr style=\"text-align: right;\">\n",
       "      <th></th>\n",
       "      <th>Unique ID</th>\n",
       "      <th>Name</th>\n",
       "      <th>Measure</th>\n",
       "      <th>Geo Type Name</th>\n",
       "      <th>Geo Place Name</th>\n",
       "      <th>Time Period</th>\n",
       "      <th>Start_Date</th>\n",
       "      <th>Data Value</th>\n",
       "      <th>Air Quality Category</th>\n",
       "    </tr>\n",
       "  </thead>\n",
       "  <tbody>\n",
       "    <tr>\n",
       "      <th>0</th>\n",
       "      <td>179772</td>\n",
       "      <td>Emissions</td>\n",
       "      <td>Density</td>\n",
       "      <td>UHF42</td>\n",
       "      <td>Queens</td>\n",
       "      <td>Other</td>\n",
       "      <td>2015-01-01</td>\n",
       "      <td>0.3</td>\n",
       "      <td>Good</td>\n",
       "    </tr>\n",
       "    <tr>\n",
       "      <th>1</th>\n",
       "      <td>179785</td>\n",
       "      <td>Emissions</td>\n",
       "      <td>Density</td>\n",
       "      <td>UHF42</td>\n",
       "      <td>Unknown</td>\n",
       "      <td>Other</td>\n",
       "      <td>2015-01-01</td>\n",
       "      <td>1.2</td>\n",
       "      <td>Good</td>\n",
       "    </tr>\n",
       "    <tr>\n",
       "      <th>2</th>\n",
       "      <td>178540</td>\n",
       "      <td>General Pollution</td>\n",
       "      <td>Miles</td>\n",
       "      <td>UHF42</td>\n",
       "      <td>Unknown</td>\n",
       "      <td>Annual Average</td>\n",
       "      <td>2011-12-01</td>\n",
       "      <td>8.6</td>\n",
       "      <td>Good</td>\n",
       "    </tr>\n",
       "    <tr>\n",
       "      <th>3</th>\n",
       "      <td>178561</td>\n",
       "      <td>General Pollution</td>\n",
       "      <td>Miles</td>\n",
       "      <td>UHF42</td>\n",
       "      <td>Queens</td>\n",
       "      <td>Annual Average</td>\n",
       "      <td>2011-12-01</td>\n",
       "      <td>8.0</td>\n",
       "      <td>Good</td>\n",
       "    </tr>\n",
       "    <tr>\n",
       "      <th>4</th>\n",
       "      <td>823217</td>\n",
       "      <td>General Pollution</td>\n",
       "      <td>Miles</td>\n",
       "      <td>UHF42</td>\n",
       "      <td>Queens</td>\n",
       "      <td>Summer</td>\n",
       "      <td>2022-06-01</td>\n",
       "      <td>6.1</td>\n",
       "      <td>Good</td>\n",
       "    </tr>\n",
       "  </tbody>\n",
       "</table>\n",
       "</div>"
      ],
      "text/plain": [
       "   Unique ID               Name  Measure Geo Type Name Geo Place Name  \\\n",
       "0     179772          Emissions  Density         UHF42         Queens   \n",
       "1     179785          Emissions  Density         UHF42        Unknown   \n",
       "2     178540  General Pollution    Miles         UHF42        Unknown   \n",
       "3     178561  General Pollution    Miles         UHF42         Queens   \n",
       "4     823217  General Pollution    Miles         UHF42         Queens   \n",
       "\n",
       "      Time Period  Start_Date  Data Value Air Quality Category  \n",
       "0           Other  2015-01-01         0.3                 Good  \n",
       "1           Other  2015-01-01         1.2                 Good  \n",
       "2  Annual Average  2011-12-01         8.6                 Good  \n",
       "3  Annual Average  2011-12-01         8.0                 Good  \n",
       "4          Summer  2022-06-01         6.1                 Good  "
      ]
     },
     "execution_count": 6,
     "metadata": {},
     "output_type": "execute_result"
    }
   ],
   "source": [
    "# Displaying the first rolls of the dataset\n",
    "dataset.head()\n"
   ]
  },
  {
   "cell_type": "code",
   "execution_count": 9,
   "metadata": {},
   "outputs": [
    {
     "name": "stdout",
     "output_type": "stream",
     "text": [
      "<class 'pandas.core.frame.DataFrame'>\n",
      "RangeIndex: 18016 entries, 0 to 18015\n",
      "Data columns (total 9 columns):\n",
      " #   Column                Non-Null Count  Dtype  \n",
      "---  ------                --------------  -----  \n",
      " 0   Unique ID             18016 non-null  int64  \n",
      " 1   Name                  18016 non-null  object \n",
      " 2   Measure               18016 non-null  object \n",
      " 3   Geo Type Name         18016 non-null  object \n",
      " 4   Geo Place Name        18016 non-null  object \n",
      " 5   Time Period           18016 non-null  object \n",
      " 6   Start_Date            18016 non-null  object \n",
      " 7   Data Value            18016 non-null  float64\n",
      " 8   Air Quality Category  18016 non-null  object \n",
      "dtypes: float64(1), int64(1), object(7)\n",
      "memory usage: 1.2+ MB\n"
     ]
    }
   ],
   "source": [
    "# Summary of data\n",
    "dataset.info()"
   ]
  },
  {
   "cell_type": "code",
   "execution_count": 14,
   "metadata": {},
   "outputs": [
    {
     "data": {
      "text/plain": [
       "Unique ID               0\n",
       "Name                    0\n",
       "Measure                 0\n",
       "Geo Type Name           0\n",
       "Geo Place Name          0\n",
       "Time Period             0\n",
       "Start_Date              0\n",
       "Data Value              0\n",
       "Air Quality Category    0\n",
       "dtype: int64"
      ]
     },
     "metadata": {},
     "output_type": "display_data"
    },
    {
     "data": {
      "text/plain": [
       "Unique ID               0\n",
       "Name                    0\n",
       "Measure                 0\n",
       "Geo Type Name           0\n",
       "Geo Place Name          0\n",
       "Time Period             0\n",
       "Start_Date              0\n",
       "Data Value              0\n",
       "Air Quality Category    0\n",
       "dtype: int64"
      ]
     },
     "metadata": {},
     "output_type": "display_data"
    }
   ],
   "source": [
    "# Seems like there is no missing values in this dataset, let's make sure of it\n",
    "display(dataset.isna().sum())\n",
    "display(dataset.isnull().sum())"
   ]
  },
  {
   "cell_type": "code",
   "execution_count": 10,
   "metadata": {},
   "outputs": [
    {
     "data": {
      "text/html": [
       "<div>\n",
       "<style scoped>\n",
       "    .dataframe tbody tr th:only-of-type {\n",
       "        vertical-align: middle;\n",
       "    }\n",
       "\n",
       "    .dataframe tbody tr th {\n",
       "        vertical-align: top;\n",
       "    }\n",
       "\n",
       "    .dataframe thead th {\n",
       "        text-align: right;\n",
       "    }\n",
       "</style>\n",
       "<table border=\"1\" class=\"dataframe\">\n",
       "  <thead>\n",
       "    <tr style=\"text-align: right;\">\n",
       "      <th></th>\n",
       "      <th>Unique ID</th>\n",
       "      <th>Data Value</th>\n",
       "    </tr>\n",
       "  </thead>\n",
       "  <tbody>\n",
       "    <tr>\n",
       "      <th>count</th>\n",
       "      <td>18016.000000</td>\n",
       "      <td>18016.000000</td>\n",
       "    </tr>\n",
       "    <tr>\n",
       "      <th>mean</th>\n",
       "      <td>426187.112789</td>\n",
       "      <td>21.412678</td>\n",
       "    </tr>\n",
       "    <tr>\n",
       "      <th>std</th>\n",
       "      <td>250391.154793</td>\n",
       "      <td>23.976151</td>\n",
       "    </tr>\n",
       "    <tr>\n",
       "      <th>min</th>\n",
       "      <td>121644.000000</td>\n",
       "      <td>0.000000</td>\n",
       "    </tr>\n",
       "    <tr>\n",
       "      <th>25%</th>\n",
       "      <td>175300.750000</td>\n",
       "      <td>8.900000</td>\n",
       "    </tr>\n",
       "    <tr>\n",
       "      <th>50%</th>\n",
       "      <td>410798.500000</td>\n",
       "      <td>15.200000</td>\n",
       "    </tr>\n",
       "    <tr>\n",
       "      <th>75%</th>\n",
       "      <td>649886.250000</td>\n",
       "      <td>26.700000</td>\n",
       "    </tr>\n",
       "    <tr>\n",
       "      <th>max</th>\n",
       "      <td>828353.000000</td>\n",
       "      <td>424.700000</td>\n",
       "    </tr>\n",
       "  </tbody>\n",
       "</table>\n",
       "</div>"
      ],
      "text/plain": [
       "           Unique ID    Data Value\n",
       "count   18016.000000  18016.000000\n",
       "mean   426187.112789     21.412678\n",
       "std    250391.154793     23.976151\n",
       "min    121644.000000      0.000000\n",
       "25%    175300.750000      8.900000\n",
       "50%    410798.500000     15.200000\n",
       "75%    649886.250000     26.700000\n",
       "max    828353.000000    424.700000"
      ]
     },
     "execution_count": 10,
     "metadata": {},
     "output_type": "execute_result"
    }
   ],
   "source": [
    "# Statistical summary\n",
    "dataset.describe()"
   ]
  }
 ],
 "metadata": {
  "kernelspec": {
   "display_name": "Python 3",
   "language": "python",
   "name": "python3"
  },
  "language_info": {
   "codemirror_mode": {
    "name": "ipython",
    "version": 3
   },
   "file_extension": ".py",
   "mimetype": "text/x-python",
   "name": "python",
   "nbconvert_exporter": "python",
   "pygments_lexer": "ipython3",
   "version": "3.10.12"
  }
 },
 "nbformat": 4,
 "nbformat_minor": 2
}
